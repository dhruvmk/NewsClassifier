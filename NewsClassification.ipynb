{
  "nbformat": 4,
  "nbformat_minor": 0,
  "metadata": {
    "colab": {
      "name": "NewsClassification.ipynb",
      "provenance": [],
      "collapsed_sections": []
    },
    "kernelspec": {
      "name": "python3",
      "display_name": "Python 3"
    }
  },
  "cells": [
    {
      "cell_type": "markdown",
      "metadata": {
        "id": "F6_9kJdLfdxk",
        "colab_type": "text"
      },
      "source": [
        "**Part 1: Data Engineering**"
      ]
    },
    {
      "cell_type": "code",
      "metadata": {
        "id": "x_aU3NuZ91kF",
        "colab_type": "code",
        "colab": {
          "base_uri": "https://localhost:8080/",
          "height": 34
        },
        "outputId": "aa14e070-b3cd-4242-d729-f563161699c0"
      },
      "source": [
        "# mounting Google drive so that we can access our dataset\n",
        "\n",
        "from google.colab import drive\n",
        "drive.mount('/content/drive')"
      ],
      "execution_count": 35,
      "outputs": [
        {
          "output_type": "stream",
          "text": [
            "Drive already mounted at /content/drive; to attempt to forcibly remount, call drive.mount(\"/content/drive\", force_remount=True).\n"
          ],
          "name": "stdout"
        }
      ]
    },
    {
      "cell_type": "code",
      "metadata": {
        "id": "yZLxtBWa_uhh",
        "colab_type": "code",
        "colab": {}
      },
      "source": [
        "# setting filepath that leads to our data\n",
        "filename = '/content/drive/My Drive/news.csv'"
      ],
      "execution_count": 36,
      "outputs": []
    },
    {
      "cell_type": "code",
      "metadata": {
        "id": "hFXDVL7u_40I",
        "colab_type": "code",
        "colab": {}
      },
      "source": [
        "# reading the .csv dataset using pandas\n",
        "\n",
        "import pandas as pd\n",
        "df = pd.read_csv(filename)"
      ],
      "execution_count": 37,
      "outputs": []
    },
    {
      "cell_type": "code",
      "metadata": {
        "id": "_NH2jR0x_9t-",
        "colab_type": "code",
        "colab": {
          "base_uri": "https://localhost:8080/",
          "height": 68
        },
        "outputId": "5cd52f2d-3869-4e8a-d827-0723737ae033"
      },
      "source": [
        "# analyzing our dataset \n",
        "df.shape, type(df), df.columns"
      ],
      "execution_count": 38,
      "outputs": [
        {
          "output_type": "execute_result",
          "data": {
            "text/plain": [
              "((6335, 4),\n",
              " pandas.core.frame.DataFrame,\n",
              " Index(['Unnamed: 0', 'title', 'text', 'label'], dtype='object'))"
            ]
          },
          "metadata": {
            "tags": []
          },
          "execution_count": 38
        }
      ]
    },
    {
      "cell_type": "code",
      "metadata": {
        "id": "plkWZZ32AauT",
        "colab_type": "code",
        "colab": {}
      },
      "source": [
        "# removing our serial number column from the dataset because it is unnecessary\n",
        "frame = df.drop(columns = ['Unnamed: 0'])"
      ],
      "execution_count": 39,
      "outputs": []
    },
    {
      "cell_type": "code",
      "metadata": {
        "id": "8Abu9VyWAnXP",
        "colab_type": "code",
        "colab": {
          "base_uri": "https://localhost:8080/",
          "height": 34
        },
        "outputId": "e671ebf8-724d-46dc-94a1-1f8b1300bb97"
      },
      "source": [
        "# verifying our operation\n",
        "frame.shape, frame.columns"
      ],
      "execution_count": 40,
      "outputs": [
        {
          "output_type": "execute_result",
          "data": {
            "text/plain": [
              "((6335, 3), Index(['title', 'text', 'label'], dtype='object'))"
            ]
          },
          "metadata": {
            "tags": []
          },
          "execution_count": 40
        }
      ]
    },
    {
      "cell_type": "code",
      "metadata": {
        "id": "pkB3S2jvB9Ey",
        "colab_type": "code",
        "colab": {}
      },
      "source": [
        "# using numpy for array operations\n",
        "import numpy as np"
      ],
      "execution_count": 41,
      "outputs": []
    },
    {
      "cell_type": "code",
      "metadata": {
        "id": "VDWunOMoAp-D",
        "colab_type": "code",
        "colab": {}
      },
      "source": [
        "# merging two columns and using this as our x axis\n",
        "x = np.array(df['title'])+np.array(df['text'])"
      ],
      "execution_count": 42,
      "outputs": []
    },
    {
      "cell_type": "code",
      "metadata": {
        "id": "L7e-HxTFB0ic",
        "colab_type": "code",
        "colab": {
          "base_uri": "https://localhost:8080/",
          "height": 34
        },
        "outputId": "b3f83279-d87c-431f-dd0a-845b29c9d264"
      },
      "source": [
        "x.shape"
      ],
      "execution_count": 43,
      "outputs": [
        {
          "output_type": "execute_result",
          "data": {
            "text/plain": [
              "(6335,)"
            ]
          },
          "metadata": {
            "tags": []
          },
          "execution_count": 43
        }
      ]
    },
    {
      "cell_type": "code",
      "metadata": {
        "id": "SmIyq2ltB1x5",
        "colab_type": "code",
        "colab": {}
      },
      "source": [
        "# setting the y axis equal to the labels (either 'FAKE' or 'REAL')\n",
        "y = np.array(df['label'])"
      ],
      "execution_count": 44,
      "outputs": []
    },
    {
      "cell_type": "code",
      "metadata": {
        "id": "UZDrwa8CCExr",
        "colab_type": "code",
        "colab": {
          "base_uri": "https://localhost:8080/",
          "height": 34
        },
        "outputId": "1ab321b1-e823-4e08-96e5-37f4d1cac740"
      },
      "source": [
        "y.shape"
      ],
      "execution_count": 45,
      "outputs": [
        {
          "output_type": "execute_result",
          "data": {
            "text/plain": [
              "(6335,)"
            ]
          },
          "metadata": {
            "tags": []
          },
          "execution_count": 45
        }
      ]
    },
    {
      "cell_type": "code",
      "metadata": {
        "id": "kbaZo4gUCjot",
        "colab_type": "code",
        "colab": {}
      },
      "source": [
        "# splitting our dataset into train and test data\n",
        "from sklearn.model_selection import train_test_split\n",
        "\n",
        "# 80% of data for training, 20% for testing\n",
        "train_x, test_x, train_y, test_y = train_test_split(x, y, test_size = 0.2"
      ],
      "execution_count": 48,
      "outputs": []
    },
    {
      "cell_type": "code",
      "metadata": {
        "id": "OQ4_ALKBClFQ",
        "colab_type": "code",
        "colab": {
          "base_uri": "https://localhost:8080/",
          "height": 34
        },
        "outputId": "eeff8123-606d-4fec-e1de-03250a1c0be8"
      },
      "source": [
        "train_x.shape, test_x.shape, train_y.shape, test_y.shape"
      ],
      "execution_count": 49,
      "outputs": [
        {
          "output_type": "execute_result",
          "data": {
            "text/plain": [
              "((5068,), (1267,), (5068,), (1267,))"
            ]
          },
          "metadata": {
            "tags": []
          },
          "execution_count": 49
        }
      ]
    },
    {
      "cell_type": "code",
      "metadata": {
        "id": "baUsJwNqCOo6",
        "colab_type": "code",
        "colab": {}
      },
      "source": [
        "# importing our necessary class that will allow us to convert our text to a suitable format for the model\n",
        "from sklearn.feature_extraction.text import TfidfVectorizer"
      ],
      "execution_count": 50,
      "outputs": []
    },
    {
      "cell_type": "code",
      "metadata": {
        "id": "D98lXn1hhiuL",
        "colab_type": "code",
        "colab": {}
      },
      "source": [
        "# instantiating object of class\n",
        "vc = TfidfVectorizer()"
      ],
      "execution_count": 51,
      "outputs": []
    },
    {
      "cell_type": "code",
      "metadata": {
        "id": "H4MghFRaC-2E",
        "colab_type": "code",
        "colab": {}
      },
      "source": [
        "# converting text to vectorized format\n",
        "\n",
        "# only train vectors need to be fitted, test vectors only need to be transformed\n",
        "train_x_vectors = vc.fit_transform(train_x)\n",
        "\n",
        "test_x_vectors = vc.transform(test_x)"
      ],
      "execution_count": 52,
      "outputs": []
    },
    {
      "cell_type": "code",
      "metadata": {
        "id": "Bd3uIkSQDJPM",
        "colab_type": "code",
        "colab": {
          "base_uri": "https://localhost:8080/",
          "height": 34
        },
        "outputId": "29a011a0-072a-4600-dbe3-37477dd65d21"
      },
      "source": [
        "train_x_vectors.shape, test_x_vectors.shape"
      ],
      "execution_count": 53,
      "outputs": [
        {
          "output_type": "execute_result",
          "data": {
            "text/plain": [
              "((5068, 65067), (1267, 65067))"
            ]
          },
          "metadata": {
            "tags": []
          },
          "execution_count": 53
        }
      ]
    },
    {
      "cell_type": "markdown",
      "metadata": {
        "id": "Tg8lzpTJiICW",
        "colab_type": "text"
      },
      "source": [
        "**Part 2: Data Science**"
      ]
    },
    {
      "cell_type": "code",
      "metadata": {
        "id": "p_vYdAY9DO9I",
        "colab_type": "code",
        "colab": {}
      },
      "source": [
        "# Using a stochastic gradient descent classifier as it trains very quickly\n",
        "from sklearn.linear_model import SGDClassifier\n",
        "clf_sgd = SGDClassifier()"
      ],
      "execution_count": 55,
      "outputs": []
    },
    {
      "cell_type": "code",
      "metadata": {
        "id": "6mnWEKdODdz0",
        "colab_type": "code",
        "colab": {
          "base_uri": "https://localhost:8080/",
          "height": 119
        },
        "outputId": "40d1e70e-efca-44ff-8d05-48a95eb4c843"
      },
      "source": [
        "# Training our model\n",
        "clf_sgd.fit(train_x_vectors, train_y)"
      ],
      "execution_count": 58,
      "outputs": [
        {
          "output_type": "execute_result",
          "data": {
            "text/plain": [
              "SGDClassifier(alpha=0.0001, average=False, class_weight=None,\n",
              "              early_stopping=False, epsilon=0.1, eta0=0.0, fit_intercept=True,\n",
              "              l1_ratio=0.15, learning_rate='optimal', loss='hinge',\n",
              "              max_iter=1000, n_iter_no_change=5, n_jobs=None, penalty='l2',\n",
              "              power_t=0.5, random_state=None, shuffle=True, tol=0.001,\n",
              "              validation_fraction=0.1, verbose=0, warm_start=False)"
            ]
          },
          "metadata": {
            "tags": []
          },
          "execution_count": 58
        }
      ]
    },
    {
      "cell_type": "code",
      "metadata": {
        "id": "vdeA_s5SDiQ_",
        "colab_type": "code",
        "colab": {}
      },
      "source": [
        "# Implementing another classifier: support vector machine\n",
        "from sklearn import svm\n",
        "clf_svm = svm.SVC(kernel = 'linear')"
      ],
      "execution_count": 57,
      "outputs": []
    },
    {
      "cell_type": "code",
      "metadata": {
        "id": "jMIGpna4DlxW",
        "colab_type": "code",
        "colab": {
          "base_uri": "https://localhost:8080/",
          "height": 85
        },
        "outputId": "04e06080-5ce9-4852-cc2f-0b7f34cbfdcc"
      },
      "source": [
        "# Training our second model\n",
        "clf_svm.fit(train_x_vectors, train_y)"
      ],
      "execution_count": 59,
      "outputs": [
        {
          "output_type": "execute_result",
          "data": {
            "text/plain": [
              "SVC(C=1.0, break_ties=False, cache_size=200, class_weight=None, coef0=0.0,\n",
              "    decision_function_shape='ovr', degree=3, gamma='scale', kernel='linear',\n",
              "    max_iter=-1, probability=False, random_state=None, shrinking=True,\n",
              "    tol=0.001, verbose=False)"
            ]
          },
          "metadata": {
            "tags": []
          },
          "execution_count": 59
        }
      ]
    },
    {
      "cell_type": "markdown",
      "metadata": {
        "id": "h6h--6oUjQmi",
        "colab_type": "text"
      },
      "source": [
        "**Part 3: Evaluation**"
      ]
    },
    {
      "cell_type": "code",
      "metadata": {
        "id": "Zw1IPsNZEJh4",
        "colab_type": "code",
        "colab": {
          "base_uri": "https://localhost:8080/",
          "height": 51
        },
        "outputId": "68cb6930-7efa-46c1-f908-adf33d272f9e"
      },
      "source": [
        "# Let's check our accuracy for each algorithm\n",
        "\n",
        "# Stochastic Gradient Descent Classifier\n",
        "print(\"Accuracy of Stochastic Gradient Descent Classifier is\",clf_sgd.score(test_x_vectors, test_y)*100)\n",
        "\n",
        "# Support Vector Classifier\n",
        "print(\"Accuracy of Support Vector Classifier is\",clf_svm.score(test_x_vectors, test_y)*100)"
      ],
      "execution_count": 60,
      "outputs": [
        {
          "output_type": "stream",
          "text": [
            "Accuracy of Stochastic Gradient Descent Classifier is 94.31728492501973\n",
            "Accuracy of Support Vector Classifier is 94.1594317284925\n"
          ],
          "name": "stdout"
        }
      ]
    },
    {
      "cell_type": "code",
      "metadata": {
        "id": "JnfXdgX4Ehhx",
        "colab_type": "code",
        "colab": {}
      },
      "source": [
        "# Quite impressive! Both models are around the 94% mark, and this is without optimization and fine tuning\n",
        "# Let's check the accuracy for each category using F1\n",
        "\n",
        "from sklearn.metrics import f1_score"
      ],
      "execution_count": 61,
      "outputs": []
    },
    {
      "cell_type": "code",
      "metadata": {
        "id": "v2F9ysQ-Ejul",
        "colab_type": "code",
        "colab": {
          "base_uri": "https://localhost:8080/",
          "height": 34
        },
        "outputId": "98e3057d-5ddd-4960-bded-df86e1378e2e"
      },
      "source": [
        "# F1 score for SGDc:\n",
        "f1_score(test_y, clf_sgd.predict(test_x_vectors), average=None,  labels=['REAL', 'FAKE'])"
      ],
      "execution_count": 64,
      "outputs": [
        {
          "output_type": "execute_result",
          "data": {
            "text/plain": [
              "array([0.94230769, 0.94401244])"
            ]
          },
          "metadata": {
            "tags": []
          },
          "execution_count": 64
        }
      ]
    },
    {
      "cell_type": "code",
      "metadata": {
        "id": "Zjk2Ib-6FDcr",
        "colab_type": "code",
        "colab": {
          "base_uri": "https://localhost:8080/",
          "height": 34
        },
        "outputId": "c92c9597-0e04-4838-8c67-1e6bc2e51f09"
      },
      "source": [
        "# F1 score for SVC:\n",
        "f1_score(test_y, clf_svm.predict(test_x_vectors), average=None,  labels=['REAL', 'FAKE'])"
      ],
      "execution_count": 65,
      "outputs": [
        {
          "output_type": "execute_result",
          "data": {
            "text/plain": [
              "array([0.94051447, 0.94263566])"
            ]
          },
          "metadata": {
            "tags": []
          },
          "execution_count": 65
        }
      ]
    },
    {
      "cell_type": "code",
      "metadata": {
        "id": "Kjgv6eXjG-17",
        "colab_type": "code",
        "colab": {}
      },
      "source": [
        "# As you can see, the models have very high accuracies for both labels, which means they are pretty good"
      ],
      "execution_count": 1,
      "outputs": []
    },
    {
      "cell_type": "markdown",
      "metadata": {
        "id": "Rla9qiOpmw-P",
        "colab_type": "text"
      },
      "source": [
        "**Part 4: Summary**"
      ]
    },
    {
      "cell_type": "markdown",
      "metadata": {
        "id": "XHXWg1w3m2Ce",
        "colab_type": "text"
      },
      "source": [
        "We see that it's very easy to build a model that can detect fake news with good accuracy. Since the accuracy is already in the mid-90s, I won't bother with any optimization and fine-tuning. If you would like a more accurate model, though, I recommend using the GridSearchCV method."
      ]
    }
  ]
}